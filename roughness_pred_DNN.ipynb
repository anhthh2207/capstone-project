{
  "nbformat": 4,
  "nbformat_minor": 0,
  "metadata": {
    "colab": {
      "provenance": []
    },
    "kernelspec": {
      "name": "python3",
      "display_name": "Python 3"
    },
    "language_info": {
      "name": "python"
    }
  },
  "cells": [
    {
      "cell_type": "markdown",
      "source": [
        "# Roughness prediction using DNN"
      ],
      "metadata": {
        "id": "3G2hC7wj_rl9"
      }
    },
    {
      "cell_type": "code",
      "source": [
        "# import packages\n",
        "import torch\n",
        "import torch.nn as nn\n",
        "import torch.optim as optim\n",
        "from torch.utils.data import Dataset, DataLoader\n",
        "import torch.nn.functional as F\n",
        "from torch.optim.lr_scheduler import StepLR\n",
        "import numpy as np\n",
        "import matplotlib.pyplot as plt\n",
        "import random\n",
        "import hashlib\n",
        "import pandas as pd\n",
        "from tqdm import tqdm\n",
        "import math\n",
        "from sklearn.preprocessing import MinMaxScaler\n",
        "import copy"
      ],
      "metadata": {
        "id": "8JMfncQi_r8Y"
      },
      "execution_count": null,
      "outputs": []
    },
    {
      "cell_type": "markdown",
      "source": [
        "# Data and preprocessing"
      ],
      "metadata": {
        "id": "hubuFsIi_6oX"
      }
    },
    {
      "cell_type": "code",
      "source": [
        "class RandomHashFunction:\n",
        "    def __init__(self, seed=None):\n",
        "        self.seed = seed or random.randint(0, 2**32 - 1)\n",
        "        random.seed(self.seed)\n",
        "        self.salt = random.random()\n",
        "\n",
        "    def forward(self, vector, min_val=0, max_val=10, output_type='float'):\n",
        "        if vector.shape != (6, ):\n",
        "            raise ValueError(\"Only vector shape (1, 6)\")\n",
        "        if output_type not in ['float', 'int']:\n",
        "            raise ValueError(\"Unsupported type\")\n",
        "\n",
        "        salted_tensor = vector + self.salt\n",
        "        input_str = \",\".join(f\"{x.item():.6f}\" for x in salted_tensor.squeeze())\n",
        "        hashed_value = hashlib.sha256(input_str.encode()).hexdigest()\n",
        "\n",
        "        hashed_value = int(hashed_value, 16)\n",
        "        normalized = hashed_value / (2**256 - 1)\n",
        "\n",
        "        y = min_val + normalized * (max_val - min_val)\n",
        "\n",
        "        if output_type == 'int':\n",
        "            return int(y)\n",
        "        elif output_type == 'float':\n",
        "            return y\n",
        "\n",
        "        # y = math.sin(vector[0]) + math.cos(vector[1]) + math.sin(vector[2]) + math.cos(vector[3]) + math.sin(vector[4]) + math.cos(vector[5])\n",
        "        # normalized = 1 / (1 + math.exp(-y))\n",
        "\n",
        "        # normalized = vector[0] + vector[1] + vector[2] + vector[3] + vector[4] + vector[5]\n",
        "        # normalized = 1 / (1 + math.exp(-normalized))\n",
        "\n",
        "        return min_val + normalized * (max_val - min_val)\n",
        "\n",
        "\n",
        "class Dummy_data_generator:\n",
        "    def __init__(self, num_samples=100, val_range=[0, 10], target = 'roughness',\n",
        "                 feature_columns = [\"Accel X (m/s^2)\", \"Accel Y\", \"Accel Z\", \"Rot_vel_X (m/s)\", \"Rot_vel_Y\", \"Rot_vel_Z\"]):\n",
        "        self.num_samples = num_samples\n",
        "        self.feature_columns = feature_columns\n",
        "        self.min_val = val_range[0]\n",
        "        self.max_val = val_range[1]\n",
        "        self.target = target\n",
        "\n",
        "    def generate_target(self, vector):\n",
        "        hash_function = RandomHashFunction()\n",
        "        return hash_function.forward(vector, min_val=self.min_val, max_val=self.max_val)\n",
        "\n",
        "    def generate_data_with_full_label(self):\n",
        "        data = {i: np.random.uniform(-10, 10, self.num_samples) for i in self.feature_columns}\n",
        "\n",
        "        data_matrix = np.array([data[col] for col in self.feature_columns]).T\n",
        "        target_vals = [self.generate_target(row) for row in data_matrix]\n",
        "        data[self.target] = target_vals\n",
        "        return data\n",
        "\n",
        "\n",
        "class SensorDataSet(Dataset):\n",
        "    def __init__(self, dataframe):\n",
        "        self.features = torch.tensor(dataframe.iloc[:, :-1].values, dtype=torch.float32)  # except last col\n",
        "        self.targets = torch.tensor(dataframe.iloc[:, -1].values, dtype=torch.float32)   # only last col\n",
        "\n",
        "    def __len__(self):\n",
        "        return len(self.features)\n",
        "\n",
        "    def __getitem__(self, idx):\n",
        "        return self.features[idx], self.targets[idx]"
      ],
      "metadata": {
        "id": "yG3U0XztHm6E"
      },
      "execution_count": null,
      "outputs": []
    },
    {
      "cell_type": "markdown",
      "source": [
        "# Model and training pipeline"
      ],
      "metadata": {
        "id": "a-IHxXqj__AY"
      }
    },
    {
      "cell_type": "code",
      "source": [
        "class Net(nn.Module):\n",
        "    def __init__(self):\n",
        "        super(Net, self).__init__()\n",
        "        self.model = nn.Sequential(\n",
        "            nn.Linear(6, 64),\n",
        "            nn.BatchNorm1d(64),\n",
        "            nn.ReLU(),\n",
        "            nn.Linear(64, 128),\n",
        "            nn.BatchNorm1d(128),\n",
        "            nn.ReLU(),\n",
        "            # nn.Linear(128, 256),\n",
        "            # # nn.BatchNorm1d(256),\n",
        "            # nn.ReLU(),\n",
        "            # nn.Linear(256, 128),\n",
        "            # # nn.BatchNorm1d(128),\n",
        "            # # nn.Dropout(p=0.3),\n",
        "            # nn.ReLU(),\n",
        "            nn.Linear(128, 64),\n",
        "            nn.Dropout(p=0.3),\n",
        "            nn.ReLU(),\n",
        "            nn.Linear(64, 1)\n",
        "        )\n",
        "\n",
        "    def forward(self, x):\n",
        "        return self.model(x)\n",
        "\n",
        "\n",
        "def train_model(model, criterion, optimizer, train_loader, val_loader, epochs=20, diplay_step=5, lr_scheduler=None):\n",
        "    # model = copy.deepcopy(model)\n",
        "    val_loss_history = []\n",
        "    train_loss_history = []\n",
        "    for epoch in range(epochs):\n",
        "        model.train()\n",
        "        train_loss = 0.0\n",
        "        num_data = 0\n",
        "        for X_batch, y_batch in tqdm(train_loader, desc=f\"Training epooch {epoch+1}\", leave=False):\n",
        "            optimizer.zero_grad()\n",
        "            y_pred = model(X_batch).squeeze()\n",
        "            loss = criterion(y_pred, y_batch)\n",
        "            loss.backward()\n",
        "            optimizer.step()\n",
        "            if lr_scheduler is not None and epoch < 1:\n",
        "                lr_scheduler.step()\n",
        "\n",
        "            train_loss += loss.item()\n",
        "            num_data += X_batch.shape[0]\n",
        "\n",
        "        train_loss = train_loss / num_data\n",
        "        train_loss_history.append(train_loss)\n",
        "\n",
        "        # evaluate\n",
        "        val_loss = validate_model(model, criterion, val_loader)\n",
        "        val_loss_history.append(val_loss)\n",
        "\n",
        "        if (epoch+1)%diplay_step==0 or epoch==0:\n",
        "            for param_group in optimizer.param_groups:\n",
        "                lr = param_group['lr']\n",
        "\n",
        "            print(f\"Epoch {epoch+1}/{epochs}, Train Loss: {train_loss:.4f}, Val Loss: {val_loss:.4f}, learning rate = {lr}\")\n",
        "\n",
        "    return train_loss_history, val_loss_history\n",
        "\n",
        "def validate_model(model, criterion, val_loader):\n",
        "    model.eval()\n",
        "    val_loss = 0.0\n",
        "    num_data = 0\n",
        "    with torch.no_grad():\n",
        "        for X_batch, y_batch in val_loader:\n",
        "            y_pred = model(X_batch).squeeze()\n",
        "            loss = criterion(y_pred, y_batch)\n",
        "            val_loss += loss.item()\n",
        "            num_data += X_batch.shape[0]\n",
        "\n",
        "    return val_loss / num_data"
      ],
      "metadata": {
        "id": "GfnN73CBP_Jn"
      },
      "execution_count": null,
      "outputs": []
    },
    {
      "cell_type": "markdown",
      "source": [
        "# Train and evaluation"
      ],
      "metadata": {
        "id": "3VmbOoSwAx8w"
      }
    },
    {
      "cell_type": "code",
      "source": [
        "val_range=[0, 10]\n",
        "generator = Dummy_data_generator(num_samples=6250, val_range=val_range)\n",
        "data = generator.generate_data_with_full_label()\n",
        "data = pd.DataFrame(data)\n",
        "data"
      ],
      "metadata": {
        "colab": {
          "base_uri": "https://localhost:8080/",
          "height": 423
        },
        "id": "s1OHr4xuXNCR",
        "outputId": "625875a4-ebbb-4965-d666-e3baa5f459f8"
      },
      "execution_count": null,
      "outputs": [
        {
          "output_type": "execute_result",
          "data": {
            "text/plain": [
              "      Accel X (m/s^2)   Accel Y   Accel Z  Rot_vel_X (m/s)  Rot_vel_Y  \\\n",
              "0           -5.366460 -2.123762  8.625339         8.842375   4.268395   \n",
              "1            9.995139 -8.998163  3.470958         9.940691  -1.087181   \n",
              "2           -8.612802 -9.566269 -6.367733        -8.228374   0.487648   \n",
              "3            9.286000  7.486985  2.033939         7.050390  -1.041939   \n",
              "4           -3.952218 -0.947475  1.100600        -2.444226  -7.074652   \n",
              "...               ...       ...       ...              ...        ...   \n",
              "6245         8.618922 -7.019564 -6.186766         8.149796   4.139276   \n",
              "6246         7.152085 -7.592141  7.889470        -1.728077   9.885148   \n",
              "6247         7.789633  6.775151  3.016157        -7.135658   8.826974   \n",
              "6248        -9.532771  4.001386  7.883589        -5.173128   1.710646   \n",
              "6249         2.589182 -5.576635 -6.565573         7.070759   5.579374   \n",
              "\n",
              "      Rot_vel_Z  roughness  \n",
              "0      0.559261   5.820496  \n",
              "1     -6.137474   3.772169  \n",
              "2      5.040437   7.999552  \n",
              "3     -3.614210   0.009742  \n",
              "4      6.463275   2.231430  \n",
              "...         ...        ...  \n",
              "6245  -9.392455   5.010220  \n",
              "6246   8.596147   2.575856  \n",
              "6247   6.800422   4.968458  \n",
              "6248   8.720628   3.590543  \n",
              "6249   4.870695   9.235904  \n",
              "\n",
              "[6250 rows x 7 columns]"
            ],
            "text/html": [
              "\n",
              "  <div id=\"df-5de546c3-8865-42a0-b9e3-6956db109bcb\" class=\"colab-df-container\">\n",
              "    <div>\n",
              "<style scoped>\n",
              "    .dataframe tbody tr th:only-of-type {\n",
              "        vertical-align: middle;\n",
              "    }\n",
              "\n",
              "    .dataframe tbody tr th {\n",
              "        vertical-align: top;\n",
              "    }\n",
              "\n",
              "    .dataframe thead th {\n",
              "        text-align: right;\n",
              "    }\n",
              "</style>\n",
              "<table border=\"1\" class=\"dataframe\">\n",
              "  <thead>\n",
              "    <tr style=\"text-align: right;\">\n",
              "      <th></th>\n",
              "      <th>Accel X (m/s^2)</th>\n",
              "      <th>Accel Y</th>\n",
              "      <th>Accel Z</th>\n",
              "      <th>Rot_vel_X (m/s)</th>\n",
              "      <th>Rot_vel_Y</th>\n",
              "      <th>Rot_vel_Z</th>\n",
              "      <th>roughness</th>\n",
              "    </tr>\n",
              "  </thead>\n",
              "  <tbody>\n",
              "    <tr>\n",
              "      <th>0</th>\n",
              "      <td>-5.366460</td>\n",
              "      <td>-2.123762</td>\n",
              "      <td>8.625339</td>\n",
              "      <td>8.842375</td>\n",
              "      <td>4.268395</td>\n",
              "      <td>0.559261</td>\n",
              "      <td>5.820496</td>\n",
              "    </tr>\n",
              "    <tr>\n",
              "      <th>1</th>\n",
              "      <td>9.995139</td>\n",
              "      <td>-8.998163</td>\n",
              "      <td>3.470958</td>\n",
              "      <td>9.940691</td>\n",
              "      <td>-1.087181</td>\n",
              "      <td>-6.137474</td>\n",
              "      <td>3.772169</td>\n",
              "    </tr>\n",
              "    <tr>\n",
              "      <th>2</th>\n",
              "      <td>-8.612802</td>\n",
              "      <td>-9.566269</td>\n",
              "      <td>-6.367733</td>\n",
              "      <td>-8.228374</td>\n",
              "      <td>0.487648</td>\n",
              "      <td>5.040437</td>\n",
              "      <td>7.999552</td>\n",
              "    </tr>\n",
              "    <tr>\n",
              "      <th>3</th>\n",
              "      <td>9.286000</td>\n",
              "      <td>7.486985</td>\n",
              "      <td>2.033939</td>\n",
              "      <td>7.050390</td>\n",
              "      <td>-1.041939</td>\n",
              "      <td>-3.614210</td>\n",
              "      <td>0.009742</td>\n",
              "    </tr>\n",
              "    <tr>\n",
              "      <th>4</th>\n",
              "      <td>-3.952218</td>\n",
              "      <td>-0.947475</td>\n",
              "      <td>1.100600</td>\n",
              "      <td>-2.444226</td>\n",
              "      <td>-7.074652</td>\n",
              "      <td>6.463275</td>\n",
              "      <td>2.231430</td>\n",
              "    </tr>\n",
              "    <tr>\n",
              "      <th>...</th>\n",
              "      <td>...</td>\n",
              "      <td>...</td>\n",
              "      <td>...</td>\n",
              "      <td>...</td>\n",
              "      <td>...</td>\n",
              "      <td>...</td>\n",
              "      <td>...</td>\n",
              "    </tr>\n",
              "    <tr>\n",
              "      <th>6245</th>\n",
              "      <td>8.618922</td>\n",
              "      <td>-7.019564</td>\n",
              "      <td>-6.186766</td>\n",
              "      <td>8.149796</td>\n",
              "      <td>4.139276</td>\n",
              "      <td>-9.392455</td>\n",
              "      <td>5.010220</td>\n",
              "    </tr>\n",
              "    <tr>\n",
              "      <th>6246</th>\n",
              "      <td>7.152085</td>\n",
              "      <td>-7.592141</td>\n",
              "      <td>7.889470</td>\n",
              "      <td>-1.728077</td>\n",
              "      <td>9.885148</td>\n",
              "      <td>8.596147</td>\n",
              "      <td>2.575856</td>\n",
              "    </tr>\n",
              "    <tr>\n",
              "      <th>6247</th>\n",
              "      <td>7.789633</td>\n",
              "      <td>6.775151</td>\n",
              "      <td>3.016157</td>\n",
              "      <td>-7.135658</td>\n",
              "      <td>8.826974</td>\n",
              "      <td>6.800422</td>\n",
              "      <td>4.968458</td>\n",
              "    </tr>\n",
              "    <tr>\n",
              "      <th>6248</th>\n",
              "      <td>-9.532771</td>\n",
              "      <td>4.001386</td>\n",
              "      <td>7.883589</td>\n",
              "      <td>-5.173128</td>\n",
              "      <td>1.710646</td>\n",
              "      <td>8.720628</td>\n",
              "      <td>3.590543</td>\n",
              "    </tr>\n",
              "    <tr>\n",
              "      <th>6249</th>\n",
              "      <td>2.589182</td>\n",
              "      <td>-5.576635</td>\n",
              "      <td>-6.565573</td>\n",
              "      <td>7.070759</td>\n",
              "      <td>5.579374</td>\n",
              "      <td>4.870695</td>\n",
              "      <td>9.235904</td>\n",
              "    </tr>\n",
              "  </tbody>\n",
              "</table>\n",
              "<p>6250 rows × 7 columns</p>\n",
              "</div>\n",
              "    <div class=\"colab-df-buttons\">\n",
              "\n",
              "  <div class=\"colab-df-container\">\n",
              "    <button class=\"colab-df-convert\" onclick=\"convertToInteractive('df-5de546c3-8865-42a0-b9e3-6956db109bcb')\"\n",
              "            title=\"Convert this dataframe to an interactive table.\"\n",
              "            style=\"display:none;\">\n",
              "\n",
              "  <svg xmlns=\"http://www.w3.org/2000/svg\" height=\"24px\" viewBox=\"0 -960 960 960\">\n",
              "    <path d=\"M120-120v-720h720v720H120Zm60-500h600v-160H180v160Zm220 220h160v-160H400v160Zm0 220h160v-160H400v160ZM180-400h160v-160H180v160Zm440 0h160v-160H620v160ZM180-180h160v-160H180v160Zm440 0h160v-160H620v160Z\"/>\n",
              "  </svg>\n",
              "    </button>\n",
              "\n",
              "  <style>\n",
              "    .colab-df-container {\n",
              "      display:flex;\n",
              "      gap: 12px;\n",
              "    }\n",
              "\n",
              "    .colab-df-convert {\n",
              "      background-color: #E8F0FE;\n",
              "      border: none;\n",
              "      border-radius: 50%;\n",
              "      cursor: pointer;\n",
              "      display: none;\n",
              "      fill: #1967D2;\n",
              "      height: 32px;\n",
              "      padding: 0 0 0 0;\n",
              "      width: 32px;\n",
              "    }\n",
              "\n",
              "    .colab-df-convert:hover {\n",
              "      background-color: #E2EBFA;\n",
              "      box-shadow: 0px 1px 2px rgba(60, 64, 67, 0.3), 0px 1px 3px 1px rgba(60, 64, 67, 0.15);\n",
              "      fill: #174EA6;\n",
              "    }\n",
              "\n",
              "    .colab-df-buttons div {\n",
              "      margin-bottom: 4px;\n",
              "    }\n",
              "\n",
              "    [theme=dark] .colab-df-convert {\n",
              "      background-color: #3B4455;\n",
              "      fill: #D2E3FC;\n",
              "    }\n",
              "\n",
              "    [theme=dark] .colab-df-convert:hover {\n",
              "      background-color: #434B5C;\n",
              "      box-shadow: 0px 1px 3px 1px rgba(0, 0, 0, 0.15);\n",
              "      filter: drop-shadow(0px 1px 2px rgba(0, 0, 0, 0.3));\n",
              "      fill: #FFFFFF;\n",
              "    }\n",
              "  </style>\n",
              "\n",
              "    <script>\n",
              "      const buttonEl =\n",
              "        document.querySelector('#df-5de546c3-8865-42a0-b9e3-6956db109bcb button.colab-df-convert');\n",
              "      buttonEl.style.display =\n",
              "        google.colab.kernel.accessAllowed ? 'block' : 'none';\n",
              "\n",
              "      async function convertToInteractive(key) {\n",
              "        const element = document.querySelector('#df-5de546c3-8865-42a0-b9e3-6956db109bcb');\n",
              "        const dataTable =\n",
              "          await google.colab.kernel.invokeFunction('convertToInteractive',\n",
              "                                                    [key], {});\n",
              "        if (!dataTable) return;\n",
              "\n",
              "        const docLinkHtml = 'Like what you see? Visit the ' +\n",
              "          '<a target=\"_blank\" href=https://colab.research.google.com/notebooks/data_table.ipynb>data table notebook</a>'\n",
              "          + ' to learn more about interactive tables.';\n",
              "        element.innerHTML = '';\n",
              "        dataTable['output_type'] = 'display_data';\n",
              "        await google.colab.output.renderOutput(dataTable, element);\n",
              "        const docLink = document.createElement('div');\n",
              "        docLink.innerHTML = docLinkHtml;\n",
              "        element.appendChild(docLink);\n",
              "      }\n",
              "    </script>\n",
              "  </div>\n",
              "\n",
              "\n",
              "<div id=\"df-14a48eb5-3ebd-40e6-93d2-baa26383528c\">\n",
              "  <button class=\"colab-df-quickchart\" onclick=\"quickchart('df-14a48eb5-3ebd-40e6-93d2-baa26383528c')\"\n",
              "            title=\"Suggest charts\"\n",
              "            style=\"display:none;\">\n",
              "\n",
              "<svg xmlns=\"http://www.w3.org/2000/svg\" height=\"24px\"viewBox=\"0 0 24 24\"\n",
              "     width=\"24px\">\n",
              "    <g>\n",
              "        <path d=\"M19 3H5c-1.1 0-2 .9-2 2v14c0 1.1.9 2 2 2h14c1.1 0 2-.9 2-2V5c0-1.1-.9-2-2-2zM9 17H7v-7h2v7zm4 0h-2V7h2v10zm4 0h-2v-4h2v4z\"/>\n",
              "    </g>\n",
              "</svg>\n",
              "  </button>\n",
              "\n",
              "<style>\n",
              "  .colab-df-quickchart {\n",
              "      --bg-color: #E8F0FE;\n",
              "      --fill-color: #1967D2;\n",
              "      --hover-bg-color: #E2EBFA;\n",
              "      --hover-fill-color: #174EA6;\n",
              "      --disabled-fill-color: #AAA;\n",
              "      --disabled-bg-color: #DDD;\n",
              "  }\n",
              "\n",
              "  [theme=dark] .colab-df-quickchart {\n",
              "      --bg-color: #3B4455;\n",
              "      --fill-color: #D2E3FC;\n",
              "      --hover-bg-color: #434B5C;\n",
              "      --hover-fill-color: #FFFFFF;\n",
              "      --disabled-bg-color: #3B4455;\n",
              "      --disabled-fill-color: #666;\n",
              "  }\n",
              "\n",
              "  .colab-df-quickchart {\n",
              "    background-color: var(--bg-color);\n",
              "    border: none;\n",
              "    border-radius: 50%;\n",
              "    cursor: pointer;\n",
              "    display: none;\n",
              "    fill: var(--fill-color);\n",
              "    height: 32px;\n",
              "    padding: 0;\n",
              "    width: 32px;\n",
              "  }\n",
              "\n",
              "  .colab-df-quickchart:hover {\n",
              "    background-color: var(--hover-bg-color);\n",
              "    box-shadow: 0 1px 2px rgba(60, 64, 67, 0.3), 0 1px 3px 1px rgba(60, 64, 67, 0.15);\n",
              "    fill: var(--button-hover-fill-color);\n",
              "  }\n",
              "\n",
              "  .colab-df-quickchart-complete:disabled,\n",
              "  .colab-df-quickchart-complete:disabled:hover {\n",
              "    background-color: var(--disabled-bg-color);\n",
              "    fill: var(--disabled-fill-color);\n",
              "    box-shadow: none;\n",
              "  }\n",
              "\n",
              "  .colab-df-spinner {\n",
              "    border: 2px solid var(--fill-color);\n",
              "    border-color: transparent;\n",
              "    border-bottom-color: var(--fill-color);\n",
              "    animation:\n",
              "      spin 1s steps(1) infinite;\n",
              "  }\n",
              "\n",
              "  @keyframes spin {\n",
              "    0% {\n",
              "      border-color: transparent;\n",
              "      border-bottom-color: var(--fill-color);\n",
              "      border-left-color: var(--fill-color);\n",
              "    }\n",
              "    20% {\n",
              "      border-color: transparent;\n",
              "      border-left-color: var(--fill-color);\n",
              "      border-top-color: var(--fill-color);\n",
              "    }\n",
              "    30% {\n",
              "      border-color: transparent;\n",
              "      border-left-color: var(--fill-color);\n",
              "      border-top-color: var(--fill-color);\n",
              "      border-right-color: var(--fill-color);\n",
              "    }\n",
              "    40% {\n",
              "      border-color: transparent;\n",
              "      border-right-color: var(--fill-color);\n",
              "      border-top-color: var(--fill-color);\n",
              "    }\n",
              "    60% {\n",
              "      border-color: transparent;\n",
              "      border-right-color: var(--fill-color);\n",
              "    }\n",
              "    80% {\n",
              "      border-color: transparent;\n",
              "      border-right-color: var(--fill-color);\n",
              "      border-bottom-color: var(--fill-color);\n",
              "    }\n",
              "    90% {\n",
              "      border-color: transparent;\n",
              "      border-bottom-color: var(--fill-color);\n",
              "    }\n",
              "  }\n",
              "</style>\n",
              "\n",
              "  <script>\n",
              "    async function quickchart(key) {\n",
              "      const quickchartButtonEl =\n",
              "        document.querySelector('#' + key + ' button');\n",
              "      quickchartButtonEl.disabled = true;  // To prevent multiple clicks.\n",
              "      quickchartButtonEl.classList.add('colab-df-spinner');\n",
              "      try {\n",
              "        const charts = await google.colab.kernel.invokeFunction(\n",
              "            'suggestCharts', [key], {});\n",
              "      } catch (error) {\n",
              "        console.error('Error during call to suggestCharts:', error);\n",
              "      }\n",
              "      quickchartButtonEl.classList.remove('colab-df-spinner');\n",
              "      quickchartButtonEl.classList.add('colab-df-quickchart-complete');\n",
              "    }\n",
              "    (() => {\n",
              "      let quickchartButtonEl =\n",
              "        document.querySelector('#df-14a48eb5-3ebd-40e6-93d2-baa26383528c button');\n",
              "      quickchartButtonEl.style.display =\n",
              "        google.colab.kernel.accessAllowed ? 'block' : 'none';\n",
              "    })();\n",
              "  </script>\n",
              "</div>\n",
              "\n",
              "  <div id=\"id_002730bc-527f-4c36-b9a8-cdd279b3c4d9\">\n",
              "    <style>\n",
              "      .colab-df-generate {\n",
              "        background-color: #E8F0FE;\n",
              "        border: none;\n",
              "        border-radius: 50%;\n",
              "        cursor: pointer;\n",
              "        display: none;\n",
              "        fill: #1967D2;\n",
              "        height: 32px;\n",
              "        padding: 0 0 0 0;\n",
              "        width: 32px;\n",
              "      }\n",
              "\n",
              "      .colab-df-generate:hover {\n",
              "        background-color: #E2EBFA;\n",
              "        box-shadow: 0px 1px 2px rgba(60, 64, 67, 0.3), 0px 1px 3px 1px rgba(60, 64, 67, 0.15);\n",
              "        fill: #174EA6;\n",
              "      }\n",
              "\n",
              "      [theme=dark] .colab-df-generate {\n",
              "        background-color: #3B4455;\n",
              "        fill: #D2E3FC;\n",
              "      }\n",
              "\n",
              "      [theme=dark] .colab-df-generate:hover {\n",
              "        background-color: #434B5C;\n",
              "        box-shadow: 0px 1px 3px 1px rgba(0, 0, 0, 0.15);\n",
              "        filter: drop-shadow(0px 1px 2px rgba(0, 0, 0, 0.3));\n",
              "        fill: #FFFFFF;\n",
              "      }\n",
              "    </style>\n",
              "    <button class=\"colab-df-generate\" onclick=\"generateWithVariable('data')\"\n",
              "            title=\"Generate code using this dataframe.\"\n",
              "            style=\"display:none;\">\n",
              "\n",
              "  <svg xmlns=\"http://www.w3.org/2000/svg\" height=\"24px\"viewBox=\"0 0 24 24\"\n",
              "       width=\"24px\">\n",
              "    <path d=\"M7,19H8.4L18.45,9,17,7.55,7,17.6ZM5,21V16.75L18.45,3.32a2,2,0,0,1,2.83,0l1.4,1.43a1.91,1.91,0,0,1,.58,1.4,1.91,1.91,0,0,1-.58,1.4L9.25,21ZM18.45,9,17,7.55Zm-12,3A5.31,5.31,0,0,0,4.9,8.1,5.31,5.31,0,0,0,1,6.5,5.31,5.31,0,0,0,4.9,4.9,5.31,5.31,0,0,0,6.5,1,5.31,5.31,0,0,0,8.1,4.9,5.31,5.31,0,0,0,12,6.5,5.46,5.46,0,0,0,6.5,12Z\"/>\n",
              "  </svg>\n",
              "    </button>\n",
              "    <script>\n",
              "      (() => {\n",
              "      const buttonEl =\n",
              "        document.querySelector('#id_002730bc-527f-4c36-b9a8-cdd279b3c4d9 button.colab-df-generate');\n",
              "      buttonEl.style.display =\n",
              "        google.colab.kernel.accessAllowed ? 'block' : 'none';\n",
              "\n",
              "      buttonEl.onclick = () => {\n",
              "        google.colab.notebook.generateWithVariable('data');\n",
              "      }\n",
              "      })();\n",
              "    </script>\n",
              "  </div>\n",
              "\n",
              "    </div>\n",
              "  </div>\n"
            ],
            "application/vnd.google.colaboratory.intrinsic+json": {
              "type": "dataframe",
              "variable_name": "data",
              "summary": "{\n  \"name\": \"data\",\n  \"rows\": 6250,\n  \"fields\": [\n    {\n      \"column\": \"Accel X (m/s^2)\",\n      \"properties\": {\n        \"dtype\": \"number\",\n        \"std\": 5.804293578584253,\n        \"min\": -9.99198171292289,\n        \"max\": 9.995138675122647,\n        \"num_unique_values\": 6250,\n        \"samples\": [\n          -3.4263178984482394,\n          -9.628466209152629,\n          -7.948353050929786\n        ],\n        \"semantic_type\": \"\",\n        \"description\": \"\"\n      }\n    },\n    {\n      \"column\": \"Accel Y\",\n      \"properties\": {\n        \"dtype\": \"number\",\n        \"std\": 5.7642111437434504,\n        \"min\": -9.99896971546941,\n        \"max\": 9.989309515636457,\n        \"num_unique_values\": 6250,\n        \"samples\": [\n          9.32693210075454,\n          8.826624456597536,\n          1.1823428136412986\n        ],\n        \"semantic_type\": \"\",\n        \"description\": \"\"\n      }\n    },\n    {\n      \"column\": \"Accel Z\",\n      \"properties\": {\n        \"dtype\": \"number\",\n        \"std\": 5.754034681402661,\n        \"min\": -9.996508442751777,\n        \"max\": 9.994532643673374,\n        \"num_unique_values\": 6250,\n        \"samples\": [\n          8.968020764545162,\n          -8.73694784664047,\n          4.861834431468711\n        ],\n        \"semantic_type\": \"\",\n        \"description\": \"\"\n      }\n    },\n    {\n      \"column\": \"Rot_vel_X (m/s)\",\n      \"properties\": {\n        \"dtype\": \"number\",\n        \"std\": 5.766190434341555,\n        \"min\": -9.99958539355266,\n        \"max\": 9.998692956098882,\n        \"num_unique_values\": 6250,\n        \"samples\": [\n          1.1853892490335554,\n          7.668481184210528,\n          0.984399413746873\n        ],\n        \"semantic_type\": \"\",\n        \"description\": \"\"\n      }\n    },\n    {\n      \"column\": \"Rot_vel_Y\",\n      \"properties\": {\n        \"dtype\": \"number\",\n        \"std\": 5.768027520291402,\n        \"min\": -9.99516030494508,\n        \"max\": 9.999029980345632,\n        \"num_unique_values\": 6250,\n        \"samples\": [\n          -7.3722405054211855,\n          -3.9166135137501428,\n          1.7592812774214615\n        ],\n        \"semantic_type\": \"\",\n        \"description\": \"\"\n      }\n    },\n    {\n      \"column\": \"Rot_vel_Z\",\n      \"properties\": {\n        \"dtype\": \"number\",\n        \"std\": 5.7917856504586585,\n        \"min\": -9.996259293493077,\n        \"max\": 9.998565080314922,\n        \"num_unique_values\": 6250,\n        \"samples\": [\n          4.734376917886083,\n          7.550852155027922,\n          9.384131019085476\n        ],\n        \"semantic_type\": \"\",\n        \"description\": \"\"\n      }\n    },\n    {\n      \"column\": \"roughness\",\n      \"properties\": {\n        \"dtype\": \"number\",\n        \"std\": 2.870870836903834,\n        \"min\": 9.292529411935044e-05,\n        \"max\": 9.999382769202525,\n        \"num_unique_values\": 6250,\n        \"samples\": [\n          0.667626418048435,\n          0.03479352852311043,\n          9.175655259724696\n        ],\n        \"semantic_type\": \"\",\n        \"description\": \"\"\n      }\n    }\n  ]\n}"
            }
          },
          "metadata": {},
          "execution_count": 767
        }
      ]
    },
    {
      "cell_type": "code",
      "source": [
        "# scaler = MinMaxScaler()\n",
        "# col_to_scale = [i for i in data.columns]\n",
        "# normalized_data = pd.DataFrame(scaler.fit_transform(data[col_to_scale]), columns=col_to_scale)\n",
        "\n",
        "\n",
        "# normalized_data"
      ],
      "metadata": {
        "id": "QKgThZQabOyx"
      },
      "execution_count": null,
      "outputs": []
    },
    {
      "cell_type": "code",
      "source": [
        "from sklearn.model_selection import train_test_split\n",
        "\n",
        "train_set, val_set = train_test_split(data, test_size=0.2, random_state=42)\n",
        "\n",
        "train_set_ = SensorDataSet(train_set)\n",
        "val_set_ = SensorDataSet(val_set)\n",
        "# dataset = SensorDataSet(normalized_data)\n",
        "batch_size = 256\n",
        "train_loader = DataLoader(train_set_, batch_size=batch_size, shuffle=True)\n",
        "val_loader = DataLoader(val_set_, batch_size=batch_size, shuffle=True)"
      ],
      "metadata": {
        "id": "g-w2OYsjbM7-"
      },
      "execution_count": null,
      "outputs": []
    },
    {
      "cell_type": "code",
      "source": [
        "model = Net()\n",
        "criterion = nn.MSELoss()\n",
        "optimizer = optim.Adam(model.parameters(), lr=1e-3, weight_decay=1e-3)\n",
        "lr_scheduler = StepLR(optimizer, step_size=10, gamma=0.7)\n",
        "\n",
        "validate_model(model, criterion, val_loader)"
      ],
      "metadata": {
        "colab": {
          "base_uri": "https://localhost:8080/"
        },
        "id": "dI8nK0AmFwgs",
        "outputId": "f40a0e9d-0448-4b10-b9da-e2b7fd2de271"
      },
      "execution_count": null,
      "outputs": [
        {
          "output_type": "execute_result",
          "data": {
            "text/plain": [
              "0.12096827697753906"
            ]
          },
          "metadata": {},
          "execution_count": 800
        }
      ]
    },
    {
      "cell_type": "code",
      "source": [
        "train_loss_history, val_loss_history = train_model(model, criterion, optimizer, train_loader, val_loader, epochs=250, diplay_step=10, lr_scheduler=lr_scheduler)\n",
        "\n",
        "plt.plot(train_loss_history, label='Train Loss', color='blue')\n",
        "plt.plot(val_loss_history, label='Validation Loss', color='red')\n",
        "plt.xlabel('Iterations')\n",
        "plt.ylabel('Loss')\n",
        "plt.title('Loss History')\n",
        "plt.legend()\n",
        "plt.grid(True)\n",
        "plt.show()"
      ],
      "metadata": {
        "id": "RTMAsdmxMKmI",
        "colab": {
          "base_uri": "https://localhost:8080/",
          "height": 923
        },
        "outputId": "861bc57a-0219-4edc-9380-1e5bf7dfd043"
      },
      "execution_count": null,
      "outputs": [
        {
          "output_type": "stream",
          "name": "stderr",
          "text": []
        },
        {
          "output_type": "stream",
          "name": "stdout",
          "text": [
            "Epoch 1/250, Train Loss: 0.0593, Val Loss: 0.0424, learning rate = 0.00049\n"
          ]
        },
        {
          "output_type": "stream",
          "name": "stderr",
          "text": []
        },
        {
          "output_type": "stream",
          "name": "stdout",
          "text": [
            "Epoch 10/250, Train Loss: 0.0352, Val Loss: 0.0376, learning rate = 0.00049\n"
          ]
        },
        {
          "output_type": "stream",
          "name": "stderr",
          "text": []
        },
        {
          "output_type": "stream",
          "name": "stdout",
          "text": [
            "Epoch 20/250, Train Loss: 0.0343, Val Loss: 0.0370, learning rate = 0.00049\n"
          ]
        },
        {
          "output_type": "stream",
          "name": "stderr",
          "text": []
        },
        {
          "output_type": "stream",
          "name": "stdout",
          "text": [
            "Epoch 30/250, Train Loss: 0.0334, Val Loss: 0.0365, learning rate = 0.00049\n"
          ]
        },
        {
          "output_type": "stream",
          "name": "stderr",
          "text": []
        },
        {
          "output_type": "stream",
          "name": "stdout",
          "text": [
            "Epoch 40/250, Train Loss: 0.0320, Val Loss: 0.0359, learning rate = 0.00049\n"
          ]
        },
        {
          "output_type": "stream",
          "name": "stderr",
          "text": []
        },
        {
          "output_type": "stream",
          "name": "stdout",
          "text": [
            "Epoch 50/250, Train Loss: 0.0307, Val Loss: 0.0357, learning rate = 0.00049\n"
          ]
        },
        {
          "output_type": "stream",
          "name": "stderr",
          "text": []
        },
        {
          "output_type": "stream",
          "name": "stdout",
          "text": [
            "Epoch 60/250, Train Loss: 0.0299, Val Loss: 0.0357, learning rate = 0.00049\n"
          ]
        },
        {
          "output_type": "stream",
          "name": "stderr",
          "text": []
        },
        {
          "output_type": "stream",
          "name": "stdout",
          "text": [
            "Epoch 70/250, Train Loss: 0.0294, Val Loss: 0.0357, learning rate = 0.00049\n"
          ]
        },
        {
          "output_type": "stream",
          "name": "stderr",
          "text": []
        },
        {
          "output_type": "stream",
          "name": "stdout",
          "text": [
            "Epoch 80/250, Train Loss: 0.0286, Val Loss: 0.0362, learning rate = 0.00049\n"
          ]
        },
        {
          "output_type": "stream",
          "name": "stderr",
          "text": []
        },
        {
          "output_type": "stream",
          "name": "stdout",
          "text": [
            "Epoch 90/250, Train Loss: 0.0280, Val Loss: 0.0363, learning rate = 0.00049\n"
          ]
        },
        {
          "output_type": "stream",
          "name": "stderr",
          "text": []
        },
        {
          "output_type": "stream",
          "name": "stdout",
          "text": [
            "Epoch 100/250, Train Loss: 0.0273, Val Loss: 0.0367, learning rate = 0.00049\n"
          ]
        },
        {
          "output_type": "stream",
          "name": "stderr",
          "text": []
        },
        {
          "output_type": "stream",
          "name": "stdout",
          "text": [
            "Epoch 110/250, Train Loss: 0.0273, Val Loss: 0.0378, learning rate = 0.00049\n"
          ]
        },
        {
          "output_type": "stream",
          "name": "stderr",
          "text": []
        },
        {
          "output_type": "stream",
          "name": "stdout",
          "text": [
            "Epoch 120/250, Train Loss: 0.0263, Val Loss: 0.0374, learning rate = 0.00049\n"
          ]
        },
        {
          "output_type": "stream",
          "name": "stderr",
          "text": []
        },
        {
          "output_type": "stream",
          "name": "stdout",
          "text": [
            "Epoch 130/250, Train Loss: 0.0257, Val Loss: 0.0382, learning rate = 0.00049\n"
          ]
        },
        {
          "output_type": "stream",
          "name": "stderr",
          "text": []
        },
        {
          "output_type": "stream",
          "name": "stdout",
          "text": [
            "Epoch 140/250, Train Loss: 0.0252, Val Loss: 0.0382, learning rate = 0.00049\n"
          ]
        },
        {
          "output_type": "stream",
          "name": "stderr",
          "text": []
        },
        {
          "output_type": "stream",
          "name": "stdout",
          "text": [
            "Epoch 150/250, Train Loss: 0.0246, Val Loss: 0.0387, learning rate = 0.00049\n"
          ]
        },
        {
          "output_type": "stream",
          "name": "stderr",
          "text": []
        },
        {
          "output_type": "stream",
          "name": "stdout",
          "text": [
            "Epoch 160/250, Train Loss: 0.0246, Val Loss: 0.0390, learning rate = 0.00049\n"
          ]
        },
        {
          "output_type": "stream",
          "name": "stderr",
          "text": []
        },
        {
          "output_type": "stream",
          "name": "stdout",
          "text": [
            "Epoch 170/250, Train Loss: 0.0233, Val Loss: 0.0394, learning rate = 0.00049\n"
          ]
        },
        {
          "output_type": "stream",
          "name": "stderr",
          "text": []
        },
        {
          "output_type": "stream",
          "name": "stdout",
          "text": [
            "Epoch 180/250, Train Loss: 0.0227, Val Loss: 0.0397, learning rate = 0.00049\n"
          ]
        },
        {
          "output_type": "stream",
          "name": "stderr",
          "text": []
        },
        {
          "output_type": "stream",
          "name": "stdout",
          "text": [
            "Epoch 190/250, Train Loss: 0.0225, Val Loss: 0.0404, learning rate = 0.00049\n"
          ]
        },
        {
          "output_type": "stream",
          "name": "stderr",
          "text": []
        },
        {
          "output_type": "stream",
          "name": "stdout",
          "text": [
            "Epoch 200/250, Train Loss: 0.0215, Val Loss: 0.0418, learning rate = 0.00049\n"
          ]
        },
        {
          "output_type": "stream",
          "name": "stderr",
          "text": []
        },
        {
          "output_type": "stream",
          "name": "stdout",
          "text": [
            "Epoch 210/250, Train Loss: 0.0210, Val Loss: 0.0414, learning rate = 0.00049\n"
          ]
        },
        {
          "output_type": "stream",
          "name": "stderr",
          "text": []
        },
        {
          "output_type": "stream",
          "name": "stdout",
          "text": [
            "Epoch 220/250, Train Loss: 0.0207, Val Loss: 0.0416, learning rate = 0.00049\n"
          ]
        },
        {
          "output_type": "stream",
          "name": "stderr",
          "text": []
        },
        {
          "output_type": "stream",
          "name": "stdout",
          "text": [
            "Epoch 230/250, Train Loss: 0.0199, Val Loss: 0.0418, learning rate = 0.00049\n"
          ]
        },
        {
          "output_type": "stream",
          "name": "stderr",
          "text": []
        },
        {
          "output_type": "stream",
          "name": "stdout",
          "text": [
            "Epoch 240/250, Train Loss: 0.0195, Val Loss: 0.0431, learning rate = 0.00049\n"
          ]
        },
        {
          "output_type": "stream",
          "name": "stderr",
          "text": []
        },
        {
          "output_type": "stream",
          "name": "stdout",
          "text": [
            "Epoch 250/250, Train Loss: 0.0190, Val Loss: 0.0430, learning rate = 0.00049\n"
          ]
        },
        {
          "output_type": "display_data",
          "data": {
            "text/plain": [
              "<Figure size 640x480 with 1 Axes>"
            ],
            "image/png": "[encoded data removed]"
          },
          "metadata": {}
        }
      ]
    },
    {
      "cell_type": "code",
      "source": [
        "test_set = train_set\n",
        "untrained_model = Net()\n",
        "\n",
        "i = random.randint(0, len(test_set)-1)\n",
        "print(test_set.iloc[i, :])\n",
        "\n",
        "x = np.array(test_set)[i, :-1]\n",
        "x = torch.tensor(x, dtype=torch.float32)\n",
        "x = x.unsqueeze(0)\n",
        "\n",
        "print()\n",
        "\n",
        "print(f'predicted roughness by trained model: {model(x).item()}')\n",
        "print(f'predicted roughness by untrained model: {untrained_model(x).item()}')"
      ],
      "metadata": {
        "colab": {
          "base_uri": "https://localhost:8080/"
        },
        "id": "VJ2PJoW2GIF_",
        "outputId": "5b134f28-1673-448a-e5a8-cb423d708497"
      },
      "execution_count": null,
      "outputs": [
        {
          "output_type": "stream",
          "name": "stdout",
          "text": [
            "Accel X (m/s^2)    1.343874\n",
            "Accel Y            5.015706\n",
            "Accel Z            6.566715\n",
            "Rot_vel_X (m/s)   -1.282153\n",
            "Rot_vel_Y         -7.210584\n",
            "Rot_vel_Z         -4.951504\n",
            "roughness          2.082249\n",
            "Name: 4984, dtype: float64\n",
            "\n",
            "predicted roughness by trained model: 4.138833045959473\n",
            "predicted roughness by untrained model: -0.21976375579833984\n"
          ]
        }
      ]
    },
    {
      "cell_type": "markdown",
      "source": [
        "## Summarization:\n",
        "- Simple DNN can learn underlying relation in 6d data\n",
        "- Relatively fast training with small dimensionality\n",
        "- Overfitting issue hurts performance. Attempts:\n",
        "    - Reduce model size\n",
        "    - Add batchnorm, dropout\n",
        "    - Increase batch_size\n",
        "    - Learning rate scheduler (decaying)\n",
        "\n",
        "## Future work:\n",
        "- Test on real data\n",
        "- Explore other architectures\n",
        "- Physics-informed model + other regularization technique to improve generalization and robustness\n",
        "- Finetunig hyperparameters (learning rate, model size, depth, etc.), architecture search for automatic finetuning.\n",
        "\n",
        "\n",
        "# Concerns:\n",
        "- Regarding simulation: Tool for simulation (Simulink, MATLAB, labview, ROS, etc)? How can we attain the Robot arm and surface model (for simulation)?\n",
        "- Which kind of controller we plan to use for our system??\n",
        "- How can we actually integrate trained DNN to our simulation (some available refernces ? ) ??\n"
      ],
      "metadata": {
        "id": "c-T0kHoSMPrC"
      }
    },
    {
      "cell_type": "code",
      "source": [],
      "metadata": {
        "id": "jO3hcyIvBe19"
      },
      "execution_count": null,
      "outputs": []
    }
  ]
}